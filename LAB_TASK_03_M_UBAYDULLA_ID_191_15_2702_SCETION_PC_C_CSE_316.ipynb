{
  "nbformat": 4,
  "nbformat_minor": 0,
  "metadata": {
    "colab": {
      "name": "LAB_TASK-03_M.UBAYDULLA_ID_191-15-2702_SCETION_PC-C_CSE-316.ipynb",
      "provenance": [],
      "collapsed_sections": [],
      "authorship_tag": "ABX9TyPDlQ7Vqkgr2wokDDTz7t4w",
      "include_colab_link": true
    },
    "kernelspec": {
      "name": "python3",
      "display_name": "Python 3"
    },
    "language_info": {
      "name": "python"
    }
  },
  "cells": [
    {
      "cell_type": "markdown",
      "metadata": {
        "id": "view-in-github",
        "colab_type": "text"
      },
      "source": [
        "<a href=\"https://colab.research.google.com/github/UBAYDULLA-2702/UBAYDULLA-2702/blob/main/LAB_TASK_03_M_UBAYDULLA_ID_191_15_2702_SCETION_PC_C_CSE_316.ipynb\" target=\"_parent\"><img src=\"https://colab.research.google.com/assets/colab-badge.svg\" alt=\"Open In Colab\"/></a>"
      ]
    },
    {
      "cell_type": "code",
      "metadata": {
        "id": "9MKK-ll1-Vy4",
        "colab": {
          "base_uri": "https://localhost:8080/"
        },
        "outputId": "d3445fac-65be-4901-a4ad-a7365f008697"
      },
      "source": [
        "from google.colab import drive\n",
        "drive.mount('/content/gdrive')"
      ],
      "execution_count": null,
      "outputs": [
        {
          "output_type": "stream",
          "name": "stdout",
          "text": [
            "Mounted at /content/gdrive\n"
          ]
        }
      ]
    },
    {
      "cell_type": "code",
      "metadata": {
        "colab": {
          "base_uri": "https://localhost:8080/"
        },
        "id": "_IOELKQAghdh",
        "outputId": "ced8d7d1-1e02-44cc-a2ef-e7e49bf0bd52"
      },
      "source": [
        "data = []\n",
        "choice = 'random'\n",
        "\n",
        "def line():\n",
        "  print('---------------------')\n",
        "\n",
        "def show_menu():\n",
        "  line()\n",
        "  print('MENU')\n",
        "  line()\n",
        "  print('1. Add semester')\n",
        "  print('2. Add courses')\n",
        "  print('3. View courses')\n",
        "  print('4. Select any courses you want unenroll from!')\n",
        "  print('5. Exit!')\n",
        "  line()\n",
        "  choice = input('Enter your choice: ')\n",
        "  return choice\n",
        "\n",
        "while choice != '5':\n",
        "  choice = show_menu()\n",
        "  if choice == '1':\n",
        "    item = input('Please add your own semester! ')\n",
        "    data.append(item)\n",
        "    print('Semester',item,'added.')\n",
        "  elif choice == '2':\n",
        "    item = input('Please add your semester courses! ')\n",
        "    data.append(item)\n",
        "    print('Courses',item,'added.')\n",
        "  elif choice == '3':\n",
        "    print('List of courses: ')\n",
        "    for item in data:\n",
        "      print(item)\n",
        "  elif choice == '4':\n",
        "    item = input('Which course you want to unenroll from? : ')\n",
        "    if item in data:\n",
        "      data.remove(item)\n",
        "      print('Unenrolled courses: ',item)\n",
        "    else:\n",
        "      print('Could not find courses!',item)\n",
        "  elif choice == '5':\n",
        "    print('Goodbye! Have a good day!')\n",
        "  else:\n",
        "    print('Please enter one of 1, 2, 3, 4, 5.')"
      ],
      "execution_count": 4,
      "outputs": [
        {
          "output_type": "stream",
          "name": "stdout",
          "text": [
            "---------------------\n",
            "MENU\n",
            "---------------------\n",
            "1. Add semester\n",
            "2. Add courses\n",
            "3. View courses\n",
            "4. Select any courses you want unenroll from!\n",
            "5. Exit!\n",
            "---------------------\n",
            "Enter your choice: 1\n",
            "Please add your own semester! 8\n",
            "Semester 8 added.\n",
            "---------------------\n",
            "MENU\n",
            "---------------------\n",
            "1. Add semester\n",
            "2. Add courses\n",
            "3. View courses\n",
            "4. Select any courses you want unenroll from!\n",
            "5. Exit!\n",
            "---------------------\n",
            "Enter your choice: 2\n",
            "Please add your semester courses! CSE-316\n",
            "Courses CSE-316 added.\n",
            "---------------------\n",
            "MENU\n",
            "---------------------\n",
            "1. Add semester\n",
            "2. Add courses\n",
            "3. View courses\n",
            "4. Select any courses you want unenroll from!\n",
            "5. Exit!\n",
            "---------------------\n",
            "Enter your choice: 3\n",
            "List of courses: \n",
            "8\n",
            "CSE-316\n",
            "---------------------\n",
            "MENU\n",
            "---------------------\n",
            "1. Add semester\n",
            "2. Add courses\n",
            "3. View courses\n",
            "4. Select any courses you want unenroll from!\n",
            "5. Exit!\n",
            "---------------------\n",
            "Enter your choice: 2\n",
            "Please add your semester courses! 2\n",
            "Courses 2 added.\n",
            "---------------------\n",
            "MENU\n",
            "---------------------\n",
            "1. Add semester\n",
            "2. Add courses\n",
            "3. View courses\n",
            "4. Select any courses you want unenroll from!\n",
            "5. Exit!\n",
            "---------------------\n",
            "Enter your choice: 2\n",
            "Please add your semester courses! 3\n",
            "Courses 3 added.\n",
            "---------------------\n",
            "MENU\n",
            "---------------------\n",
            "1. Add semester\n",
            "2. Add courses\n",
            "3. View courses\n",
            "4. Select any courses you want unenroll from!\n",
            "5. Exit!\n",
            "---------------------\n",
            "Enter your choice: 4\n",
            "Which course you want to unenroll from? : 3\n",
            "Unenrolled courses:  3\n",
            "---------------------\n",
            "MENU\n",
            "---------------------\n",
            "1. Add semester\n",
            "2. Add courses\n",
            "3. View courses\n",
            "4. Select any courses you want unenroll from!\n",
            "5. Exit!\n",
            "---------------------\n",
            "Enter your choice: 5\n",
            "Goodbye! Have a good day!\n"
          ]
        }
      ]
    }
  ]
}